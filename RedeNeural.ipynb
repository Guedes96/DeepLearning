{
  "nbformat": 4,
  "nbformat_minor": 0,
  "metadata": {
    "colab": {
      "provenance": [],
      "collapsed_sections": []
    },
    "kernelspec": {
      "name": "python3",
      "display_name": "Python 3"
    },
    "language_info": {
      "name": "python"
    }
  },
  "cells": [
    {
      "cell_type": "markdown",
      "source": [
        "Implementando Rede Neural problema mnist "
      ],
      "metadata": {
        "id": "bltJ5t77FO8o"
      }
    },
    {
      "cell_type": "code",
      "execution_count": 11,
      "metadata": {
        "id": "InoW4CQRFMPh"
      },
      "outputs": [],
      "source": [
        "import numpy as np\n",
        "import torch \n",
        "import torch.nn.functional as F\n",
        "import torchvision\n",
        "import matplotlib.pyplot as plt\n",
        "from time import time\n",
        "from torchvision import datasets, transforms\n",
        "from torch import nn, optim"
      ]
    },
    {
      "cell_type": "code",
      "source": [
        "# definindo a conversão de imagem para tensor\n",
        "transform = transforms.ToTensor()\n",
        "\n",
        "#carrega a parte de treino do dataset\n",
        "trainset = datasets.MNIST('./MNIST_data/', download=True, train=True, transform=transform)\n",
        "\n",
        "#cria um buffer para pegar os dados por partes\n",
        "trainloader = torch.utils.data.DataLoader(trainset, batch_size=64, shuffle=True)\n",
        "\n",
        "#carrega a parte de validacao do dataset\n",
        "valset = datasets.MNIST('./MNIST_data/', download=True, train=True, transform=transform)\n",
        "\n",
        "#cria um buffer para pegar os dados por partes\n",
        "valloader = torch.utils.data.DataLoader(valset, batch_size=64, shuffle=True)"
      ],
      "metadata": {
        "id": "BATDwMnOG0lO"
      },
      "execution_count": 12,
      "outputs": []
    },
    {
      "cell_type": "code",
      "source": [
        "#conferindo o acesso a base de dados\n",
        "dataiter = iter(trainloader)\n",
        "imagens, etiquetas = dataiter.next()\n",
        "plt.imshow(imagens[0].numpy().squeeze(), cmap='gray_r');"
      ],
      "metadata": {
        "colab": {
          "base_uri": "https://localhost:8080/",
          "height": 265
        },
        "id": "rzSzYYBzJWIx",
        "outputId": "7b15c5a0-3b8c-4a8c-9d9a-b432858a3340"
      },
      "execution_count": 13,
      "outputs": [
        {
          "output_type": "display_data",
          "data": {
            "text/plain": [
              "<Figure size 432x288 with 1 Axes>"
            ],
            "image/png": "[encoded data removed]"
          },
          "metadata": {
            "needs_background": "light"
          }
        }
      ]
    },
    {
      "cell_type": "code",
      "source": [
        "print(imagens[0].shape) #verificar as dimensoes do tensor de cada imagem\n",
        "print(etiquetas[0].shape) #verificar as dimensoes do tensor de cada etiqueta"
      ],
      "metadata": {
        "colab": {
          "base_uri": "https://localhost:8080/"
        },
        "id": "wHiprw0UKJo3",
        "outputId": "b6b6e620-c3cc-4f36-bc4f-97c099d1ffdb"
      },
      "execution_count": 14,
      "outputs": [
        {
          "output_type": "stream",
          "name": "stdout",
          "text": [
            "torch.Size([1, 28, 28])\n",
            "torch.Size([])\n"
          ]
        }
      ]
    },
    {
      "cell_type": "code",
      "source": [
        "class Modelo(nn.Module):\n",
        "    def __init__(self):\n",
        "       super(Modelo, self).__init__()\n",
        "       self.linear1 = nn.Linear(28*28, 128) #camada de entrada, 784 neuronios que se ligam a 128\n",
        "       self.linear2 = nn.Linear(128, 64) #camada interna 1, 128 neuronios que se ligam a 64\n",
        "       self.linear3 = nn.Linear(64, 10) #camada iterna 2, 64 neuronios que se ligam a 10\n",
        "       #para a camada de saida nao é necessario definir nasa pois so precisamos peagr o output da cama interna 2\n",
        "\n",
        "    def forward(self, X):\n",
        "      X = F.relu(self.linear1(X)) #funcao de ativacao da camada de entrada para a camada interna 1\n",
        "      X = F.relu(self.linear2(X)) #funcao de ativacaao da camada interna 1 para a camada interna 2\n",
        "      X = self.linear3(X) #funcao de ativacao da camada interna 2 para a camada de saida, nesse caso f(x) = x\n",
        "      return F.log_softmax(X, dim=1) #dados utilizados para calcular a perda"
      ],
      "metadata": {
        "id": "wBryTq0qLGFZ"
      },
      "execution_count": 15,
      "outputs": []
    },
    {
      "cell_type": "code",
      "source": [
        "def treino(modelo, trainloader, device):\n",
        "\n",
        "    otimizador = optim.SGD(modelo.parameters(), lr=0.01, momentum=0.5) #define a politica de atualizacao dos pesos e das bias\n",
        "    inicio = time() #timer para saber quanto tempo levou o treino\n",
        "\n",
        "    criterio = nn.NLLLoss() #definindo o criterio para calcular a perda\n",
        "    EPOCHS = 10 #numero de epochs que o algoritmo rodara\n",
        "    modelo.train() #ativando o modo de treinamento do modelo\n",
        "\n",
        "    for epoch in range(EPOCHS):\n",
        "        perda_acumulada = 0 #inicializacao de perda acumulada da epoch em questao\n",
        "\n",
        "        for imagens, etiquetas in trainloader:\n",
        "\n",
        "            imagens = imagens.view(imagens.shape[0], -1) #converteendo as imagens para \"vetores\" de 28*28 casa para ficarem compativeis com a \n",
        "            otimizador.zero_grad() #zerando os gradientes por conta do ciclo anterior\n",
        "\n",
        "            output = modelo(imagens.to(device)) #colocando os dados do modelo\n",
        "            perda_instantanea = criterio(output, etiquetas.to(device)) #calculando a perda da epoch em questao\n",
        "\n",
        "            perda_instantanea.backward() #back propagation a partir da perda\n",
        "\n",
        "            otimizador.step() #atualizando os pesos e a bias\n",
        "\n",
        "            perda_acumulada += perda_instantanea.item() #atualizacao da perda acumulada\n",
        "\n",
        "        else:\n",
        "            print(\"Epoch {} - perda resultante: {}\".format(epoch+1, perda_acumulada/len(trainloader))) \n",
        "    print(\"\\nTempo de treino (em minutos) =\", (time()-inicio)/60)"
      ],
      "metadata": {
        "id": "saH_BwOVOR8K"
      },
      "execution_count": 16,
      "outputs": []
    },
    {
      "cell_type": "code",
      "source": [
        "def validacao(modelo, valloader, device):\n",
        "    conta_corretas, conta_todas = 0, 0 \n",
        "    for imagem, etiquetas in valloader:\n",
        "        for i in range(len(etiquetas)):\n",
        "            img = imagens[i].view(1, 784)\n",
        "            #desativar o autograd para acelerar a validacao. Grafos computacionais dinamicos tem um custo alto de processamento \n",
        "            with torch.no_grad():\n",
        "                logps = modelo(img.to(device)) #output do modelo em escala logaritmica\n",
        "\n",
        "            ps = torch.exp(logps) #converte output para escala normal(lembrando que é um tensor)\n",
        "            probab = list(ps.cpu().numpy()[0])\n",
        "            etiqueta_pred = probab.index(max(probab)) #converte o tensor em um numero, no caso, o umero que o modelo previu \n",
        "            etiqueta_certa = etiquetas.numpy()[i]\n",
        "\n",
        "            if(etiqueta_certa == etiqueta_pred): #compara a previsao com o valor correto\n",
        "                conta_corretas += 1\n",
        "\n",
        "            conta_todas += 1\n",
        "\n",
        "    print(\"total de imagens testadas =\", conta_todas)\n",
        "    print(\"\\nPrecisao do modelo = {}%\". format(conta_corretas*100/conta_todas))"
      ],
      "metadata": {
        "id": "6geajHQKSFZU"
      },
      "execution_count": 17,
      "outputs": []
    },
    {
      "cell_type": "code",
      "source": [
        "modelo = Modelo()\n",
        "device = torch.device(\"cuda\" if torch.cuda.is_available() else \"cpu\")\n",
        "modelo.to(device) "
      ],
      "metadata": {
        "colab": {
          "base_uri": "https://localhost:8080/"
        },
        "id": "1B4XF586xleO",
        "outputId": "fa9bb5e8-7742-4a49-8ba4-68bd6bbc6793"
      },
      "execution_count": 18,
      "outputs": [
        {
          "output_type": "execute_result",
          "data": {
            "text/plain": [
              "Modelo(\n",
              "  (linear1): Linear(in_features=784, out_features=128, bias=True)\n",
              "  (linear2): Linear(in_features=128, out_features=64, bias=True)\n",
              "  (linear3): Linear(in_features=64, out_features=10, bias=True)\n",
              ")"
            ]
          },
          "metadata": {},
          "execution_count": 18
        }
      ]
    }
  ]
}